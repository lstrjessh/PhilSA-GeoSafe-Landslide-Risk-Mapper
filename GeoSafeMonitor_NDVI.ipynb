{
 "cells": [
  {
   "cell_type": "markdown",
   "id": "9fdd06ba",
   "metadata": {},
   "source": [
    "# Geo-Safe Monitor PH: Landslide Risk POC\n",
    "\n",
    "This notebook mirrors the prototype workflow for monitoring vegetation change over Baungon, Bukidnon using Sentinel-2 imagery. It incorporates the fixes highlighted in the earlier code review, including reliable dependency handling, historical data availability checks, and explicit map rendering.\n"
   ]
  },
  {
   "cell_type": "code",
   "execution_count": 1,
   "id": "553b0209",
   "metadata": {},
   "outputs": [],
   "source": [
    "import importlib.util\n",
    "import subprocess\n",
    "import sys\n",
    "\n",
    "DEPENDENCIES = {\n",
    "    'ee': 'earthengine-api',\n",
    "    'geemap': 'geemap',\n",
    "    'pandas': 'pandas',\n",
    "    'matplotlib': 'matplotlib',\n",
    "}\n",
    "\n",
    "for module_name, package_name in DEPENDENCIES.items():\n",
    "    if importlib.util.find_spec(module_name) is None:\n",
    "        print(f'Installing {package_name}...')\n",
    "        subprocess.check_call([sys.executable, '-m', 'pip', 'install', package_name])\n"
   ]
  },
  {
   "cell_type": "code",
   "execution_count": 2,
   "id": "c1cc3b72",
   "metadata": {},
   "outputs": [
    {
     "name": "stdout",
     "output_type": "stream",
     "text": [
      "Google Earth Engine initialized.\n"
     ]
    }
   ],
   "source": [
    "import ee\n",
    "import geemap\n",
    "import pandas as pd\n",
    "import matplotlib.pyplot as plt\n",
    "\n",
    "try:\n",
    "    ee.Initialize()\n",
    "    print('Google Earth Engine initialized.')\n",
    "except Exception:\n",
    "    print('Authenticating with Google Earth Engine...')\n",
    "    ee.Authenticate()\n",
    "    ee.Initialize()\n",
    "    print('Authentication complete.')\n"
   ]
  },
  {
   "cell_type": "markdown",
   "id": "89c07cab",
   "metadata": {},
   "source": [
    "## Configuration and Helper Functions\n",
    "\n",
    "Define the ROI, time windows, and utility functions for cloud masking, NDVI computation, and data sourcing with a fallback for historical imagery.\n"
   ]
  },
  {
   "cell_type": "code",
   "execution_count": 3,
   "id": "e9a22e01",
   "metadata": {},
   "outputs": [
    {
     "data": {
      "text/html": [
       "\n",
       "            <style>\n",
       "                .geemap-dark {\n",
       "                    --jp-widgets-color: white;\n",
       "                    --jp-widgets-label-color: white;\n",
       "                    --jp-ui-font-color1: white;\n",
       "                    --jp-layout-color2: #454545;\n",
       "                    background-color: #383838;\n",
       "                }\n",
       "\n",
       "                .geemap-dark .jupyter-button {\n",
       "                    --jp-layout-color3: #383838;\n",
       "                }\n",
       "\n",
       "                .geemap-colab {\n",
       "                    background-color: var(--colab-primary-surface-color, white);\n",
       "                }\n",
       "\n",
       "                .geemap-colab .jupyter-button {\n",
       "                    --jp-layout-color3: var(--colab-primary-surface-color, white);\n",
       "                }\n",
       "            </style>\n",
       "            "
      ],
      "text/plain": [
       "<IPython.core.display.HTML object>"
      ]
     },
     "metadata": {},
     "output_type": "display_data"
    }
   ],
   "source": [
    "def mask_s2_clouds(image):\n",
    "    \"\"\"Mask clouds in a Sentinel-2 image using the QA60 band.\"\"\"\n",
    "    qa = image.select('QA60')\n",
    "    cloud_bit_mask = 1 << 10\n",
    "    cirrus_bit_mask = 1 << 11\n",
    "    mask = qa.bitwiseAnd(cloud_bit_mask).eq(0).And(qa.bitwiseAnd(cirrus_bit_mask).eq(0))\n",
    "    return image.updateMask(mask).divide(10000)\n",
    "\n",
    "\n",
    "def add_ndvi(image):\n",
    "    \"\"\"Add an NDVI band to a Sentinel-2 image.\"\"\"\n",
    "    ndvi = image.normalizedDifference(['B8', 'B4']).rename('NDVI')\n",
    "    return image.addBands(ndvi)\n",
    "\n",
    "\n",
    "def add_ndwi(image):\n",
    "    \"\"\"Add an NDWI band to a Sentinel-2 image.\"\"\"\n",
    "    ndwi = image.normalizedDifference(['B3', 'B8']).rename('NDWI')\n",
    "    return image.addBands(ndwi)\n",
    "\n",
    "\n",
    "def get_sentinel_collection(start_date, end_date, region, max_cloud=20):\n",
    "    sr_id = 'COPERNICUS/S2_SR_HARMONIZED'\n",
    "    sr_collection = (\n",
    "        ee.ImageCollection(sr_id)\n",
    "        .filterDate(start_date, end_date)\n",
    "        .filterBounds(region)\n",
    "        .filter(ee.Filter.lt('CLOUDY_PIXEL_PERCENTAGE', max_cloud))\n",
    "    )\n",
    "\n",
    "    sr_count = sr_collection.size().getInfo() or 0\n",
    "    if sr_count > 0:\n",
    "        return sr_collection, sr_id\n",
    "\n",
    "    toa_id = 'COPERNICUS/S2'\n",
    "    toa_collection = (\n",
    "        ee.ImageCollection(toa_id)\n",
    "        .filterDate(start_date, end_date)\n",
    "        .filterBounds(region)\n",
    "        .filter(ee.Filter.lt('CLOUDY_PIXEL_PERCENTAGE', max_cloud))\n",
    "    )\n",
    "\n",
    "    toa_count = toa_collection.size().getInfo() or 0\n",
    "    if toa_count == 0:\n",
    "        raise RuntimeError(\n",
    "            f'No Sentinel-2 imagery available for {start_date} to {end_date} in the selected ROI.'\n",
    "        )\n",
    "\n",
    "    print(f'Fallback to {toa_id} for {start_date} - {end_date}.')\n",
    "    return toa_collection, toa_id\n"
   ]
  },
  {
   "cell_type": "code",
   "execution_count": 4,
   "id": "f9a08d47",
   "metadata": {},
   "outputs": [
    {
     "data": {
      "text/html": [
       "\n",
       "            <style>\n",
       "                .geemap-dark {\n",
       "                    --jp-widgets-color: white;\n",
       "                    --jp-widgets-label-color: white;\n",
       "                    --jp-ui-font-color1: white;\n",
       "                    --jp-layout-color2: #454545;\n",
       "                    background-color: #383838;\n",
       "                }\n",
       "\n",
       "                .geemap-dark .jupyter-button {\n",
       "                    --jp-layout-color3: #383838;\n",
       "                }\n",
       "\n",
       "                .geemap-colab {\n",
       "                    background-color: var(--colab-primary-surface-color, white);\n",
       "                }\n",
       "\n",
       "                .geemap-colab .jupyter-button {\n",
       "                    --jp-layout-color3: var(--colab-primary-surface-color, white);\n",
       "                }\n",
       "            </style>\n",
       "            "
      ],
      "text/plain": [
       "<IPython.core.display.HTML object>"
      ]
     },
     "metadata": {},
     "output_type": "display_data"
    },
    {
     "name": "stdout",
     "output_type": "stream",
     "text": [
      "High-risk threshold set at: 0.10\n",
      "Using COPERNICUS/S2_SR_HARMONIZED for the recent period and COPERNICUS/S2_SR_HARMONIZED for the historical baseline.\n"
     ]
    },
    {
     "name": "stderr",
     "output_type": "stream",
     "text": [
      "C:\\Users\\LESTER\\scoop\\apps\\anaconda3\\current\\App\\Lib\\site-packages\\ee\\deprecation.py:209: DeprecationWarning: \n",
      "\n",
      "Attention required for NASA_USDA/HSL/SMAP10KM_soil_moisture! You are using a deprecated asset.\n",
      "To make sure your code keeps working, please update it.\n",
      "Learn more: https://developers.google.com/earth-engine/datasets/catalog/NASA_USDA_HSL_SMAP10KM_soil_moisture\n",
      "\n",
      "  warnings.warn(warning, category=DeprecationWarning)\n"
     ]
    },
    {
     "name": "stdout",
     "output_type": "stream",
     "text": [
      "No soil moisture data available for the selected period.\n"
     ]
    }
   ],
   "source": [
    "roi = ee.Geometry.Rectangle([124.60, 8.30, 124.70, 8.40])\n",
    "\n",
    "start_date_recent = '2025-01-01'\n",
    "end_date_recent = '2025-10-01'\n",
    "start_date_historical = '2020-01-01'\n",
    "end_date_historical = '2020-12-31'\n",
    "\n",
    "VEGETATION_LOSS_THRESHOLD = -0.15\n",
    "VEGETATION_NDVI_THRESHOLD = 0.2\n",
    "WATER_NDWI_THRESHOLD = 0.1\n",
    "\n",
    "recent_collection, recent_dataset = get_sentinel_collection(start_date_recent, end_date_recent, roi)\n",
    "historical_collection, historical_dataset = get_sentinel_collection(start_date_historical, end_date_historical, roi)\n",
    "\n",
    "recent_image = add_ndwi(add_ndvi(recent_collection.map(mask_s2_clouds).median()))\n",
    "historical_image = add_ndwi(add_ndvi(historical_collection.map(mask_s2_clouds).median()))\n",
    "\n",
    "recent_ndvi = recent_image.select('NDVI')\n",
    "historical_ndvi = historical_image.select('NDVI')\n",
    "\n",
    "recent_ndwi = recent_image.select('NDWI')\n",
    "historical_ndwi = historical_image.select('NDWI')\n",
    "\n",
    "vegetation_mask_recent = recent_ndvi.gt(VEGETATION_NDVI_THRESHOLD)\n",
    "vegetation_mask_historical = historical_ndvi.gt(VEGETATION_NDVI_THRESHOLD)\n",
    "vegetation_mask_both = vegetation_mask_recent.And(vegetation_mask_historical)\n",
    "\n",
    "water_mask_recent = recent_ndwi.gt(WATER_NDWI_THRESHOLD)\n",
    "water_mask_historical = historical_ndwi.gt(WATER_NDWI_THRESHOLD)\n",
    "water_mask_combined = water_mask_recent.Or(water_mask_historical)\n",
    "\n",
    "historical_ndvi_display = historical_ndvi.where(water_mask_historical, -0.1).updateMask(vegetation_mask_historical.Or(water_mask_historical))\n",
    "recent_ndvi_display = recent_ndvi.where(water_mask_recent, -0.1).updateMask(vegetation_mask_recent.Or(water_mask_recent))\n",
    "\n",
    "ndvi_difference = recent_ndvi.subtract(historical_ndvi)\n",
    "ndvi_difference_masked = ndvi_difference.updateMask(vegetation_mask_both.And(water_mask_combined.Not()))\n",
    "\n",
    "dem = ee.Image('USGS/SRTMGL1_003').clip(roi)\n",
    "slope = ee.Algorithms.Terrain(dem).select('slope')\n",
    "\n",
    "veg_loss = historical_ndvi.subtract(recent_ndvi).rename('VEG_LOSS')\n",
    "veg_loss_norm = veg_loss.max(0).unitScale(0, 0.4).clamp(0, 1)\n",
    "\n",
    "moisture_norm = recent_ndwi.max(0).unitScale(0, 0.6).clamp(0, 1)\n",
    "slope_norm = slope.unitScale(5, 45).clamp(0, 1)\n",
    "\n",
    "risk_score = (\n",
    "    veg_loss_norm.multiply(0.45)\n",
    "    .add(moisture_norm.multiply(0.35))\n",
    "    .add(slope_norm.multiply(0.20))\n",
    ").rename('RISK_SCORE')\n",
    "\n",
    "risk_score_masked = risk_score.updateMask(vegetation_mask_both.And(water_mask_combined.Not()))\n",
    "percentile_dict = risk_score_masked.reduceRegion(\n",
    "    reducer=ee.Reducer.percentile([85, 90]),\n",
    "    geometry=roi,\n",
    "    scale=30,\n",
    "    maxPixels=1e9,\n",
    "    bestEffort=True,\n",
    "    tileScale=2,\n",
    ")\n",
    "\n",
    "p90 = ee.Number(percentile_dict.get('RISK_SCORE_p90'))\n",
    "p85 = ee.Number(percentile_dict.get('RISK_SCORE_p85'))\n",
    "risk_threshold = ee.Number(ee.Algorithms.If(p90, p90, p85))\n",
    "risk_threshold = ee.Number(ee.Algorithms.If(risk_threshold, risk_threshold, 0.45))\n",
    "\n",
    "risk_hotspots = risk_score_masked.gte(risk_threshold).selfMask().rename('RISK_HOTSPOTS')\n",
    "\n",
    "try:\n",
    "    risk_threshold_value = risk_threshold.getInfo()\n",
    "    print(f'High-risk threshold set at: {risk_threshold_value:.2f}')\n",
    "except Exception as exc:\n",
    "    print(f'Unable to retrieve risk threshold: {exc}')\n",
    "\n",
    "print(f'Using {recent_dataset} for the recent period and {historical_dataset} for the historical baseline.')\n",
    "\n",
    "try:\n",
    "    mgb_landslide = ee.Image('projects/sat-io/open-datasets/MGB/MGB_Landslide_Susceptibility').clip(roi)\n",
    "    hazard_viz = {'min': 1, 'max': 3, 'palette': ['#1a9850', '#fee08b', '#d73027']}\n",
    "    hazard_labels = {1: 'Low', 2: 'Moderate', 3: 'High'}\n",
    "except Exception as exc:\n",
    "    mgb_landslide = None\n",
    "    hazard_viz = None\n",
    "    hazard_labels = {}\n",
    "    print(f'MGB landslide layer unavailable: {exc}')\n",
    "\n",
    "\n",
    "soil_moisture_layer = None\n",
    "try:\n",
    "    soil_moisture_dataset = 'NASA_USDA/HSL/SMAP10KM_soil_moisture'\n",
    "    soil_moisture_collection = (\n",
    "        ee.ImageCollection(soil_moisture_dataset)\n",
    "        .filterDate(start_date_recent, end_date_recent)\n",
    "        .filterBounds(roi)\n",
    "    )\n",
    "    soil_moisture_count = soil_moisture_collection.size().getInfo() or 0\n",
    "    if soil_moisture_count > 0:\n",
    "        soil_moisture_layer = soil_moisture_collection.select('ssm').mean().clip(roi)\n",
    "        print(f'Soil moisture images used: {soil_moisture_count}')\n",
    "    else:\n",
    "        print('No soil moisture data available for the selected period.')\n",
    "except Exception as exc:\n",
    "    soil_moisture_layer = None\n",
    "    print(f'Soil moisture layer unavailable: {exc}')\n"
   ]
  },
  {
   "cell_type": "code",
   "execution_count": 5,
   "id": "c2510db6",
   "metadata": {},
   "outputs": [
    {
     "data": {
      "text/html": [
       "\n",
       "            <style>\n",
       "                .geemap-dark {\n",
       "                    --jp-widgets-color: white;\n",
       "                    --jp-widgets-label-color: white;\n",
       "                    --jp-ui-font-color1: white;\n",
       "                    --jp-layout-color2: #454545;\n",
       "                    background-color: #383838;\n",
       "                }\n",
       "\n",
       "                .geemap-dark .jupyter-button {\n",
       "                    --jp-layout-color3: #383838;\n",
       "                }\n",
       "\n",
       "                .geemap-colab {\n",
       "                    background-color: var(--colab-primary-surface-color, white);\n",
       "                }\n",
       "\n",
       "                .geemap-colab .jupyter-button {\n",
       "                    --jp-layout-color3: var(--colab-primary-surface-color, white);\n",
       "                }\n",
       "            </style>\n",
       "            "
      ],
      "text/plain": [
       "<IPython.core.display.HTML object>"
      ]
     },
     "metadata": {},
     "output_type": "display_data"
    },
    {
     "name": "stdout",
     "output_type": "stream",
     "text": [
      "Average NDVI Change from 2020 to 2025: 0.1877\n",
      "------------------------------------------------------------\n",
      ">>> MONITORING: No significant large-scale vegetation loss detected.\n",
      ">>> Continue routine satellite monitoring of this area.\n",
      "------------------------------------------------------------\n"
     ]
    }
   ],
   "source": [
    "mean_ndvi_change_dict = ndvi_difference_masked.reduceRegion(\n",
    "    reducer=ee.Reducer.mean(),\n",
    "    geometry=roi,\n",
    "    scale=30,\n",
    ")\n",
    "\n",
    "mean_ndvi_change_value = None\n",
    "mean_ndvi_change = mean_ndvi_change_dict.get('NDVI')\n",
    "if mean_ndvi_change is not None:\n",
    "    try:\n",
    "        mean_ndvi_change_value = mean_ndvi_change.getInfo()\n",
    "    except Exception as exc:\n",
    "        print(f'Unable to retrieve NDVI change: {exc}')\n",
    "\n",
    "if mean_ndvi_change_value is None:\n",
    "    alert_message = (\n",
    "        '>>> DATA WARNING: Unable to compute NDVI change for the selected period.\\n'\n",
    "        '>>> Please verify imagery availability or adjust the ROI and time range.\\n'\n",
    "    )\n",
    "    print('Average NDVI change could not be determined.')\n",
    "else:\n",
    "    print(f'Average NDVI Change from 2020 to 2025: {mean_ndvi_change_value:.4f}')\n",
    "    if mean_ndvi_change_value < VEGETATION_LOSS_THRESHOLD:\n",
    "        alert_message = (\n",
    "            '>>> RISK DETECTED: Significant vegetation loss identified.\\n'\n",
    "            '>>> This area is flagged as a high-risk hotspot.\\n'\n",
    "            '>>> Recommendation: Deploy Geo-Safe Sensor Nodes to this location.'\n",
    "        )\n",
    "    else:\n",
    "        alert_message = (\n",
    "            '>>> MONITORING: No significant large-scale vegetation loss detected.\\n'\n",
    "            '>>> Continue routine satellite monitoring of this area.'\n",
    "        )\n",
    "\n",
    "print('------------------------------------------------------------')\n",
    "print(alert_message)\n",
    "print('------------------------------------------------------------')\n"
   ]
  },
  {
   "cell_type": "code",
   "execution_count": 6,
   "id": "6645e80d",
   "metadata": {},
   "outputs": [
    {
     "data": {
      "text/html": [
       "\n",
       "            <style>\n",
       "                .geemap-dark {\n",
       "                    --jp-widgets-color: white;\n",
       "                    --jp-widgets-label-color: white;\n",
       "                    --jp-ui-font-color1: white;\n",
       "                    --jp-layout-color2: #454545;\n",
       "                    background-color: #383838;\n",
       "                }\n",
       "\n",
       "                .geemap-dark .jupyter-button {\n",
       "                    --jp-layout-color3: #383838;\n",
       "                }\n",
       "\n",
       "                .geemap-colab {\n",
       "                    background-color: var(--colab-primary-surface-color, white);\n",
       "                }\n",
       "\n",
       "                .geemap-colab .jupyter-button {\n",
       "                    --jp-layout-color3: var(--colab-primary-surface-color, white);\n",
       "                }\n",
       "            </style>\n",
       "            "
      ],
      "text/plain": [
       "<IPython.core.display.HTML object>"
      ]
     },
     "metadata": {},
     "output_type": "display_data"
    },
    {
     "data": {
      "application/vnd.jupyter.widget-view+json": {
       "model_id": "cd386dbb5a6e4987b3f17b32c4c4c83b",
       "version_major": 2,
       "version_minor": 0
      },
      "text/plain": [
       "Map(center=[8.35, 124.65], controls=(WidgetControl(options=['position', 'transparent_bg'], position='topright'…"
      ]
     },
     "metadata": {},
     "output_type": "display_data"
    }
   ],
   "source": [
    "rgb_viz = {'min': 0.0, 'max': 0.3, 'bands': ['B4', 'B3', 'B2']}\n",
    "ndvi_viz = {'min': -0.2, 'max': 1, 'palette': ['royalblue', 'white', 'green']}\n",
    "change_viz = {'min': -0.5, 'max': 0.5, 'palette': ['red', 'white', 'green']}\n",
    "soil_moisture_viz = {'min': 0.0, 'max': 0.6, 'palette': ['#f7fcf5', '#74c476', '#00441b']}\n",
    "slope_viz = {'min': 0, 'max': 45, 'palette': ['#ffffcc', '#fd8d3c', '#800026']}\n",
    "risk_viz = {'min': 0, 'max': 1, 'palette': ['#1a9641', '#ffffbf', '#d7191c']}\n",
    "hotspot_viz = {'palette': ['#d7191c'], 'opacity': 0.6}\n",
    "\n",
    "water_outline = water_mask_combined.updateMask(water_mask_combined).selfMask()\n",
    "water_outline_style = {'palette': ['royalblue'], 'opacity': 0.4}\n",
    "\n",
    "m = geemap.Map(center=[8.35, 124.65], zoom=12)\n",
    "m.add_layer(historical_image.select(['B4', 'B3', 'B2']).clip(roi), rgb_viz, 'Historical Image (2020)')\n",
    "m.add_layer(historical_ndvi_display.clip(roi), ndvi_viz, 'Historical NDVI (2020 Baseline)')\n",
    "m.add_layer(recent_image.select(['B4', 'B3', 'B2']).clip(roi), rgb_viz, 'Recent Image (2025)')\n",
    "m.add_layer(recent_ndvi_display.clip(roi), ndvi_viz, 'Recent NDVI (Veg & Water)')\n",
    "m.add_layer(ndvi_difference_masked.clip(roi), change_viz, 'NDVI Change (Vegetation Only)')\n",
    "m.add_layer(risk_score_masked.clip(roi), risk_viz, 'Composite Risk Score')\n",
    "if soil_moisture_layer is not None:\n",
    "    m.add_layer(soil_moisture_layer, soil_moisture_viz, 'Soil Moisture (SMAP)')\n",
    "m.add_layer(slope.clip(roi), slope_viz, 'Slope (degrees)')\n",
    "m.add_layer(risk_hotspots.clip(roi), hotspot_viz, 'High-Risk Hotspots')\n",
    "m.add_layer(water_outline.clip(roi), water_outline_style, 'Water Mask')\n",
    "m.addLayerControl()\n",
    "m\n"
   ]
  },
  {
   "cell_type": "code",
   "execution_count": 7,
   "id": "46fae4a0",
   "metadata": {},
   "outputs": [
    {
     "data": {
      "text/html": [
       "\n",
       "            <style>\n",
       "                .geemap-dark {\n",
       "                    --jp-widgets-color: white;\n",
       "                    --jp-widgets-label-color: white;\n",
       "                    --jp-ui-font-color1: white;\n",
       "                    --jp-layout-color2: #454545;\n",
       "                    background-color: #383838;\n",
       "                }\n",
       "\n",
       "                .geemap-dark .jupyter-button {\n",
       "                    --jp-layout-color3: #383838;\n",
       "                }\n",
       "\n",
       "                .geemap-colab {\n",
       "                    background-color: var(--colab-primary-surface-color, white);\n",
       "                }\n",
       "\n",
       "                .geemap-colab .jupyter-button {\n",
       "                    --jp-layout-color3: var(--colab-primary-surface-color, white);\n",
       "                }\n",
       "            </style>\n",
       "            "
      ],
      "text/plain": [
       "<IPython.core.display.HTML object>"
      ]
     },
     "metadata": {},
     "output_type": "display_data"
    },
    {
     "name": "stdout",
     "output_type": "stream",
     "text": [
      "Generating URL ...\n",
      "Downloading data from https://earthengine.googleapis.com/v1/projects/7324741553/thumbnails/fe3e98072f8381d10e4dd044e113f372-c42527f95f8c91fd4653ab360cea4f13:getPixels\n",
      "Please wait ...\n",
      "Data downloaded to c:\\Users\\LESTER\\Desktop\\PhilSA Hackathon\\outputs\\risk_score_raw.tif\n",
      "Generating URL ...\n",
      "Downloading data from https://earthengine.googleapis.com/v1/projects/7324741553/thumbnails/9231dbe20924847b408175e7372b29b7-9b76d4b944f074acff85ecf6d2f6667b:getPixels\n",
      "Please wait ...\n",
      "Data downloaded to c:\\Users\\LESTER\\Desktop\\PhilSA Hackathon\\outputs\\risk_score_visual.tif\n",
      "Generating URL ...\n",
      "Downloading data from https://earthengine.googleapis.com/v1/projects/7324741553/thumbnails/6059fe912c12daa163e5474ef8804fbc-5dce01f344f47cbc62ae6a587ffb08bb:getPixels\n",
      "Please wait ...\n",
      "Data downloaded to c:\\Users\\LESTER\\Desktop\\PhilSA Hackathon\\outputs\\risk_hotspots_raw.tif\n",
      "Generating URL ...\n",
      "Downloading data from https://earthengine.googleapis.com/v1/projects/7324741553/thumbnails/a73e9421391059799d4b3bebfd4d7eb1-29b04948c6ab8968324eadc0ea2274f2:getPixels\n",
      "Please wait ...\n",
      "Data downloaded to c:\\Users\\LESTER\\Desktop\\PhilSA Hackathon\\outputs\\risk_hotspots_visual.tif\n",
      "Export complete: raw + visual GeoTIFFs saved in outputs/.\n"
     ]
    }
   ],
   "source": [
    "from pathlib import Path\n",
    "\n",
    "output_dir = Path('outputs')\n",
    "output_dir.mkdir(parents=True, exist_ok=True)\n",
    "\n",
    "styled_risk_score = risk_score_masked.multiply(255).clamp(0, 255).toUint8().unmask(0)\n",
    "styled_risk_hotspots = risk_hotspots.multiply(255).toUint8().unmask(0)\n",
    "raw_risk_score = risk_score_masked.unmask(-9999)\n",
    "raw_risk_hotspots = risk_hotspots.unmask(0)\n",
    "\n",
    "try:\n",
    "    geemap.ee_export_image(\n",
    "        raw_risk_score,\n",
    "        filename=str(output_dir / 'risk_score_raw.tif'),\n",
    "        scale=30,\n",
    "        region=roi,\n",
    "        file_per_band=False,\n",
    "    )\n",
    "    geemap.ee_export_image(\n",
    "        styled_risk_score,\n",
    "        filename=str(output_dir / 'risk_score_visual.tif'),\n",
    "        scale=30,\n",
    "        region=roi,\n",
    "        file_per_band=False,\n",
    "    )\n",
    "    geemap.ee_export_image(\n",
    "        raw_risk_hotspots,\n",
    "        filename=str(output_dir / 'risk_hotspots_raw.tif'),\n",
    "        scale=30,\n",
    "        region=roi,\n",
    "        file_per_band=False,\n",
    "    )\n",
    "    geemap.ee_export_image(\n",
    "        styled_risk_hotspots,\n",
    "        filename=str(output_dir / 'risk_hotspots_visual.tif'),\n",
    "        scale=30,\n",
    "        region=roi,\n",
    "        file_per_band=False,\n",
    "    )\n",
    "    print('Export complete: raw + visual GeoTIFFs saved in outputs/.')\n",
    "except Exception as exc:\n",
    "    print(f'Export skipped or failed: {exc}')\n"
   ]
  }
 ],
 "metadata": {
  "kernelspec": {
   "display_name": "Python 3",
   "language": "python",
   "name": "python3"
  },
  "language_info": {
   "codemirror_mode": {
    "name": "ipython",
    "version": 3
   },
   "file_extension": ".py",
   "mimetype": "text/x-python",
   "name": "python",
   "nbconvert_exporter": "python",
   "pygments_lexer": "ipython3",
   "version": "3.12.7"
  }
 },
 "nbformat": 4,
 "nbformat_minor": 5
}
