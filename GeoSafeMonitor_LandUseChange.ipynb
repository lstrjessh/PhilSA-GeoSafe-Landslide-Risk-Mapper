{
 "cells": [
  {
   "cell_type": "markdown",
   "metadata": {},
   "source": [
    "# Geo-Safe Monitor PH: Land Use Change Analysis\n",
    "\n",
    "This notebook runs a supervised classification over Baungon, Bukidnon, then compares land cover between 2015 and 2025."
   ]
  },
  {
   "cell_type": "code",
   "execution_count": 1,
   "id": "bbd8346d",
   "metadata": {},
   "outputs": [],
   "source": [
    "import importlib.util\n",
    "import subprocess\n",
    "import sys\n",
    "\n",
    "DEPENDENCIES = {\n",
    "    'ee': 'earthengine-api',\n",
    "    'geemap': 'geemap',\n",
    "}\n",
    "\n",
    "for module_name, package_name in DEPENDENCIES.items():\n",
    "    if importlib.util.find_spec(module_name) is None:\n",
    "        print(f'Installing {package_name}...')\n",
    "        subprocess.check_call([sys.executable, '-m', 'pip', 'install', package_name])\n"
   ]
  },
  {
   "cell_type": "code",
   "execution_count": 2,
   "id": "404c100e",
   "metadata": {},
   "outputs": [
    {
     "name": "stdout",
     "output_type": "stream",
     "text": [
      "Google Earth Engine initialized.\n"
     ]
    }
   ],
   "source": [
    "import ee\n",
    "import geemap\n",
    "\n",
    "try:\n",
    "    ee.Initialize()\n",
    "    print('Google Earth Engine initialized.')\n",
    "except Exception:\n",
    "    print('Authenticating with Google Earth Engine...')\n",
    "    ee.Authenticate()\n",
    "    ee.Initialize()\n",
    "    print('Authentication complete.')\n"
   ]
  },
  {
   "cell_type": "markdown",
   "id": "ae5798ee",
   "metadata": {},
   "source": [
    "## Configuration and Training Data\n",
    "\n",
    "Define ROI, land cover classes, and sample points used for the supervised classifier."
   ]
  },
  {
   "cell_type": "code",
   "execution_count": 3,
   "id": "849f4477",
   "metadata": {},
   "outputs": [
    {
     "data": {
      "text/html": [
       "\n",
       "            <style>\n",
       "                .geemap-dark {\n",
       "                    --jp-widgets-color: white;\n",
       "                    --jp-widgets-label-color: white;\n",
       "                    --jp-ui-font-color1: white;\n",
       "                    --jp-layout-color2: #454545;\n",
       "                    background-color: #383838;\n",
       "                }\n",
       "\n",
       "                .geemap-dark .jupyter-button {\n",
       "                    --jp-layout-color3: #383838;\n",
       "                }\n",
       "\n",
       "                .geemap-colab {\n",
       "                    background-color: var(--colab-primary-surface-color, white);\n",
       "                }\n",
       "\n",
       "                .geemap-colab .jupyter-button {\n",
       "                    --jp-layout-color3: var(--colab-primary-surface-color, white);\n",
       "                }\n",
       "            </style>\n",
       "            "
      ],
      "text/plain": [
       "<IPython.core.display.HTML object>"
      ]
     },
     "metadata": {},
     "output_type": "display_data"
    },
    {
     "name": "stdout",
     "output_type": "stream",
     "text": [
      "Configuration set for GLAD Global Land Cover and Land Use Change analysis.\n"
     ]
    }
   ],
   "source": [
    "roi = ee.Geometry.Rectangle([124.60, 8.30, 124.70, 8.40])\n",
    "\n",
    "GLAD_HEX = [\n",
    "    'FEFECC','FAFAC3','F7F7BB','F4F4B3','F1F1AB','EDEDA2','EAEA9A','E7E792','E4E48A',\n",
    "    'E0E081','DDDD79','DADA71','D7D769','D3D360','D0D058','CDCD50','CACA48','C6C63F','C3C337','C0C02F',\n",
    "    'BDBD27','B9B91E','B6B616','B3B30E','B0B006','609C60','5C985C','589558','549254','508E50','4C8B4C','488848',\n",
    "    '448544','408140','3C7E3C','387B38','347834','317431','2D712D','296E29','256B25','216721','1D641D','196119','155E15',\n",
    "    '115A11','0D570D','095409','065106','643700','643A00','643D00','644000','644300','644600','644900','654C00','654F00',\n",
    "    '655200','655500','655800','655A00','655D00','656000','656300','666600','666900','666C00','666F00','667200','667500',\n",
    "    '667800','667B00','FF99FF','FC92FC','F98BF9','F685F6','F37EF3','F077F0','ED71ED','EA6AEA','E763E7','E45DE4','E156E1',\n",
    "    'DE4FDE','DB49DB','D842D8','D53BD5','D235D2','CF2ECF','CC27CC','C921C9','C61AC6','C313C3','C00DC0','BD06BD','BB00BB',\n",
    "    '000003','000004','000005','BFC0C0','B7BDC2','AFBBC4','A8B8C6','A0B6C9','99B3CB','91B1CD','89AFD0','82ACD2','7AAAD4',\n",
    "    '73A7D6','6BA5D9','64A3DB','5CA0DD','549EE0','4D9BE2','4599E4','3E96E6','3694E9','2E92EB','278FED','1F8DF0','188AF2',\n",
    "    '1088F4','0986F7','55A5A5','53A1A2','519E9F','4F9B9C','4D989A','4B9597','499294','478F91','458B8F','43888C','418589',\n",
    "    '3F8286','3D7F84','3B7C81','39797E','37767B','357279','336F76','316C73','2F6970','2D666E','2B636B','296068','285D66',\n",
    "    'BB93B0','B78FAC','B48CA9','B189A6','AE85A2','AA829F','A77F9C','A47B99','A17895','9E7592','9A718F','976E8C','946B88',\n",
    "    '916885','8D6482','8A617F','875E7B','845A78','815775','7D5472','7A506E','774D6B','744A68','714765','DE7CBB','DA77B7',\n",
    "    'D772B3','D46EAF','D169AB','CE64A8','CB60A4','C85BA0','C4579C','C15298','BE4D95','BB4991','B8448D','B54089','B23B86',\n",
    "    'AF3682','AB327E','A82D7A','A52976','A22473','9F1F6F','9C1B6B','991667','961264','000000','000000','000000','1964EB',\n",
    "    '1555E4','1147DD','0E39D6','0A2ACF','071CC8','030EC1','0000BA','0000BA','040464','0000FF','3051CF','000000','000000',\n",
    "    '000000','000000','000000','000000','000000','000000','000000','000000','000000','000000','000000','000000','000000',\n",
    "    '000000','000000','547FC4','4D77BA','466FB1','4067A7','395F9E','335895','335896','335897','FF2828','FFFFFF','D0FFFF',\n",
    "    'FFE0D0','FF7D00','FAC800','C86400','FFF000','AFCD96','AFCD96','64DCDC','00FFFF','00FFFF','00FFFF','111133','000000'\n",
    "]\n",
    "GLAD_PALETTE = [f'#{c}' for c in GLAD_HEX]\n",
    "\n",
    "print('Configuration set for GLAD Global Land Cover and Land Use Change analysis.')\n"
   ]
  },
  {
   "cell_type": "code",
   "execution_count": 4,
   "id": "ebd7beb7",
   "metadata": {},
   "outputs": [
    {
     "data": {
      "text/html": [
       "\n",
       "            <style>\n",
       "                .geemap-dark {\n",
       "                    --jp-widgets-color: white;\n",
       "                    --jp-widgets-label-color: white;\n",
       "                    --jp-ui-font-color1: white;\n",
       "                    --jp-layout-color2: #454545;\n",
       "                    background-color: #383838;\n",
       "                }\n",
       "\n",
       "                .geemap-dark .jupyter-button {\n",
       "                    --jp-layout-color3: #383838;\n",
       "                }\n",
       "\n",
       "                .geemap-colab {\n",
       "                    background-color: var(--colab-primary-surface-color, white);\n",
       "                }\n",
       "\n",
       "                .geemap-colab .jupyter-button {\n",
       "                    --jp-layout-color3: var(--colab-primary-surface-color, white);\n",
       "                }\n",
       "            </style>\n",
       "            "
      ],
      "text/plain": [
       "<IPython.core.display.HTML object>"
      ]
     },
     "metadata": {},
     "output_type": "display_data"
    }
   ],
   "source": [
    "def get_glad_lcluc(year):\n",
    "    assets = {\n",
    "        2000: 'projects/glad/GLCLU2020/v2/LCLUC_2000',\n",
    "        2005: 'projects/glad/GLCLU2020/v2/LCLUC_2005',\n",
    "        2010: 'projects/glad/GLCLU2020/v2/LCLUC_2010',\n",
    "        2015: 'projects/glad/GLCLU2020/v2/LCLUC_2015',\n",
    "        2020: 'projects/glad/GLCLU2020/v2/LCLUC_2020',\n",
    "    }\n",
    "    asset_id = assets.get(year)\n",
    "    if asset_id is None:\n",
    "        raise ValueError(f'No GLAD land cover asset configured for {year}.')\n",
    "    return ee.Image(asset_id)\n"
   ]
  },
  {
   "cell_type": "code",
   "execution_count": 5,
   "id": "88d0fd5c",
   "metadata": {},
   "outputs": [
    {
     "data": {
      "text/html": [
       "\n",
       "            <style>\n",
       "                .geemap-dark {\n",
       "                    --jp-widgets-color: white;\n",
       "                    --jp-widgets-label-color: white;\n",
       "                    --jp-ui-font-color1: white;\n",
       "                    --jp-layout-color2: #454545;\n",
       "                    background-color: #383838;\n",
       "                }\n",
       "\n",
       "                .geemap-dark .jupyter-button {\n",
       "                    --jp-layout-color3: #383838;\n",
       "                }\n",
       "\n",
       "                .geemap-colab {\n",
       "                    background-color: var(--colab-primary-surface-color, white);\n",
       "                }\n",
       "\n",
       "                .geemap-colab .jupyter-button {\n",
       "                    --jp-layout-color3: var(--colab-primary-surface-color, white);\n",
       "                }\n",
       "            </style>\n",
       "            "
      ],
      "text/plain": [
       "<IPython.core.display.HTML object>"
      ]
     },
     "metadata": {},
     "output_type": "display_data"
    },
    {
     "name": "stdout",
     "output_type": "stream",
     "text": [
      "This data is made available by the Global Land Analysis and Discovery (GLAD) lab at the University of Maryland. P.V. Potapov, M.C. Hansen, A.H. Pickens, A. Hernandez-Serna, A. Tyukavina, S. Turubanova, V. Zalles, X. Li, A. Khan, F. Stolle, N. Harris, X.-P. Song, A. Baggett, I. Kommareddy, A. Komareddy (2022).\n",
      "For more information please visit: https://glad.umd.edu/dataset/GLCLUC2020\n",
      "The official legend is published at: https://storage.googleapis.com/earthenginepartners-hansen/GLCLU2000-2020/v2/legend.xlsx\n"
     ]
    }
   ],
   "source": [
    "credit_text = ('This data is made available by the Global Land Analysis and Discovery (GLAD) lab at the University of Maryland. '\n",
    "               'P.V. Potapov, M.C. Hansen, A.H. Pickens, A. Hernandez-Serna, A. Tyukavina, S. Turubanova, V. Zalles, X. Li, '               'A. Khan, F. Stolle, N. Harris, X.-P. Song, A. Baggett, I. Kommareddy, A. Komareddy (2022).')\n",
    "print(credit_text)\n",
    "print('For more information please visit: https://glad.umd.edu/dataset/GLCLUC2020')\n",
    "print('The official legend is published at: https://storage.googleapis.com/earthenginepartners-hansen/GLCLU2000-2020/v2/legend.xlsx')\n"
   ]
  },
  {
   "cell_type": "code",
   "execution_count": 6,
   "id": "3c6d9834",
   "metadata": {},
   "outputs": [
    {
     "data": {
      "text/html": [
       "\n",
       "            <style>\n",
       "                .geemap-dark {\n",
       "                    --jp-widgets-color: white;\n",
       "                    --jp-widgets-label-color: white;\n",
       "                    --jp-ui-font-color1: white;\n",
       "                    --jp-layout-color2: #454545;\n",
       "                    background-color: #383838;\n",
       "                }\n",
       "\n",
       "                .geemap-dark .jupyter-button {\n",
       "                    --jp-layout-color3: #383838;\n",
       "                }\n",
       "\n",
       "                .geemap-colab {\n",
       "                    background-color: var(--colab-primary-surface-color, white);\n",
       "                }\n",
       "\n",
       "                .geemap-colab .jupyter-button {\n",
       "                    --jp-layout-color3: var(--colab-primary-surface-color, white);\n",
       "                }\n",
       "            </style>\n",
       "            "
      ],
      "text/plain": [
       "<IPython.core.display.HTML object>"
      ]
     },
     "metadata": {},
     "output_type": "display_data"
    },
    {
     "name": "stdout",
     "output_type": "stream",
     "text": [
      "GLAD Global Land Cover and Land Use images loaded successfully.\n"
     ]
    }
   ],
   "source": [
    "land_mask = ee.Image('projects/glad/OceanMask').lte(1)\n",
    "glad_images = {year: get_glad_lcluc(year).updateMask(land_mask).clip(roi) for year in [2000, 2005, 2010, 2015, 2020]}\n",
    "glad_change = ee.Image('projects/glad/GLCLU2020/v2/LCLUC').updateMask(land_mask).clip(roi)\n",
    "print('GLAD Global Land Cover and Land Use images loaded successfully.')\n"
   ]
  },
  {
   "cell_type": "code",
   "execution_count": 7,
   "id": "5ebc421d",
   "metadata": {},
   "outputs": [
    {
     "data": {
      "text/html": [
       "\n",
       "            <style>\n",
       "                .geemap-dark {\n",
       "                    --jp-widgets-color: white;\n",
       "                    --jp-widgets-label-color: white;\n",
       "                    --jp-ui-font-color1: white;\n",
       "                    --jp-layout-color2: #454545;\n",
       "                    background-color: #383838;\n",
       "                }\n",
       "\n",
       "                .geemap-dark .jupyter-button {\n",
       "                    --jp-layout-color3: #383838;\n",
       "                }\n",
       "\n",
       "                .geemap-colab {\n",
       "                    background-color: var(--colab-primary-surface-color, white);\n",
       "                }\n",
       "\n",
       "                .geemap-colab .jupyter-button {\n",
       "                    --jp-layout-color3: var(--colab-primary-surface-color, white);\n",
       "                }\n",
       "            </style>\n",
       "            "
      ],
      "text/plain": [
       "<IPython.core.display.HTML object>"
      ]
     },
     "metadata": {},
     "output_type": "display_data"
    },
    {
     "name": "stdout",
     "output_type": "stream",
     "text": [
      "Displaying GLAD Global Land Cover and Land Use Change map ...\n"
     ]
    },
    {
     "data": {
      "application/vnd.jupyter.widget-view+json": {
       "model_id": "301e97b3ea7247a59ee3e417468ab768",
       "version_major": 2,
       "version_minor": 0
      },
      "text/plain": [
       "Map(center=[8.35, 124.65], controls=(WidgetControl(options=['position', 'transparent_bg'], position='topright'…"
      ]
     },
     "metadata": {},
     "output_type": "display_data"
    }
   ],
   "source": [
    "m = geemap.Map(center=[8.35, 124.65], zoom=9)\n",
    "m.add_basemap('SATELLITE')\n",
    "vis_params = {'min': 0, 'max': 255, 'palette': GLAD_PALETTE}\n",
    "m.add_layer(glad_images[2000], vis_params, 'GLAD Land Cover 2000')\n",
    "m.add_layer(glad_images[2005], vis_params, 'GLAD Land Cover 2005')\n",
    "m.add_layer(glad_images[2010], vis_params, 'GLAD Land Cover 2010')\n",
    "m.add_layer(glad_images[2015], vis_params, 'GLAD Land Cover 2015')\n",
    "m.add_layer(glad_images[2020], vis_params, 'GLAD Land Cover 2020')\n",
    "m.add_layer(glad_change, vis_params, 'GLAD Land Cover Change 2000-2020')\n",
    "legend_items = {\n",
    "    'Forest → Cropland': '#E67E22',\n",
    "    'Forest → Bare Ground': '#C0392B',\n",
    "    'Forest → Grassland': '#27AE60'\n",
    "}\n",
    "m.add_legend(title='Forest Conversion Drivers (2000→2020)', legend_dict=legend_items)\n",
    "m.addLayerControl()\n",
    "print('Displaying GLAD Global Land Cover and Land Use Change map ...')\n",
    "m\n"
   ]
  }
 ],
 "metadata": {
  "kernelspec": {
   "display_name": "Python 3",
   "language": "python",
   "name": "python3"
  },
  "language_info": {
   "file_extension": ".py",
   "mimetype": "text/x-python",
   "name": "python",
   "nbconvert_exporter": "python",
   "pygments_lexer": "ipython3",
   "version": "3.12.7"
  }
 },
 "nbformat": 4,
 "nbformat_minor": 5
}
